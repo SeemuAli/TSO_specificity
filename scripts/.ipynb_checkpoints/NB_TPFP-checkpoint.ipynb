{
 "cells": [
  {
   "cell_type": "markdown",
   "metadata": {},
   "source": [
    "# Comparing TP and FP variants in GIAB "
   ]
  },
  {
   "cell_type": "code",
   "execution_count": 1,
   "metadata": {},
   "outputs": [
    {
     "data": {
      "text/plain": [
       "'\\nnull_columns=df.columns[df.isnull().any()]\\nx = df[null_columns].isnull().sum()   #sum of all null values for each column of FP variants \\n#y = df[df[\"18M01315.DP\"].notnull()]\\n'"
      ]
     },
     "execution_count": 1,
     "metadata": {},
     "output_type": "execute_result"
    }
   ],
   "source": [
    "import pandas as pd \n",
    "\n",
    "df = pd.read_csv(\"/Users/seemuali/TSO_specificity/data/data_TPFP.table\", sep=\"\\t\")\n",
    "FP = df[(df[\"STATUS\"]<='FP')&(df[\"FILTER\"]<='PASS')]\n",
    "TP = df[(df[\"STATUS\"]<='TP')&(df[\"FILTER\"]<='PASS')]\n",
    "\n",
    "'''\n",
    "null_columns=df.columns[df.isnull().any()]\n",
    "x = df[null_columns].isnull().sum()   #sum of all null values for each column of FP variants \n",
    "#y = df[df[\"18M01315.DP\"].notnull()]\n",
    "'''\n"
   ]
  },
  {
   "cell_type": "code",
   "execution_count": 6,
   "metadata": {},
   "outputs": [],
   "source": [
    "#FP.head() "
   ]
  },
  {
   "cell_type": "code",
   "execution_count": 7,
   "metadata": {},
   "outputs": [],
   "source": [
    "#TP.head()"
   ]
  },
  {
   "cell_type": "code",
   "execution_count": 8,
   "metadata": {},
   "outputs": [],
   "source": [
    "#df['CHROM'].unique()\n",
    "\n"
   ]
  },
  {
   "cell_type": "code",
   "execution_count": null,
   "metadata": {},
   "outputs": [],
   "source": []
  }
 ],
 "metadata": {
  "kernelspec": {
   "display_name": "Python 3",
   "language": "python",
   "name": "python3"
  },
  "language_info": {
   "codemirror_mode": {
    "name": "ipython",
    "version": 3
   },
   "file_extension": ".py",
   "mimetype": "text/x-python",
   "name": "python",
   "nbconvert_exporter": "python",
   "pygments_lexer": "ipython3",
   "version": "3.7.3"
  }
 },
 "nbformat": 4,
 "nbformat_minor": 2
}
